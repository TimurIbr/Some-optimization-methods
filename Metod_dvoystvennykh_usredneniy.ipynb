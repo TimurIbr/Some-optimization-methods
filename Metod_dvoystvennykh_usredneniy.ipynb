{
 "cells": [
  {
   "cell_type": "markdown",
   "metadata": {},
   "source": [
    "# Метод двойственных усреднений\n",
    "\n",
    "## Бабушкина Татьяна, 673 группа"
   ]
  },
  {
   "cell_type": "markdown",
   "metadata": {},
   "source": [
    "Минимизируем функцию на выпуклом множестве $Q = \\mathbb{R}^{n}$\n",
    "\n",
    "Шаг метода:\n",
    "\n",
    "$$ x_{k+1} = argmin_{\\mathbb{R}^{n}} \\{ d(x) + <\\sum_{i=1}^{k} h_i \\nabla f(x_i), x>\\}$$\n",
    "\n",
    "где $d(x) = \\frac{1}{2} \\sum_{i=0}^{n} x_{i}^{2}$ -- прокс-функция"
   ]
  },
  {
   "cell_type": "markdown",
   "metadata": {},
   "source": [
    "Заметим, что $j$-ая компонента $x_{k+1}$ будет равна $- \\sum_{i=1}^{k} h_i \\nabla f(x_i)$"
   ]
  },
  {
   "cell_type": "code",
   "execution_count": 17,
   "metadata": {},
   "outputs": [],
   "source": [
    "import numpy as np\n",
    "import matplotlib.pyplot as plt\n",
    "%matplotlib inline"
   ]
  },
  {
   "cell_type": "code",
   "execution_count": 18,
   "metadata": {},
   "outputs": [],
   "source": [
    "#Вход: функция градиента оптимизирумой функции, критерий останова, шаг h_i, точка старта\n",
    "#Выход: последовательность точек x_k -- решений задачи оптимизации\n",
    "\n",
    "def DoDual (gradient, eps, step, x_start):\n",
    "    i = 0 \n",
    "    x = x_start #точка старта\n",
    "    y = 10e29\n",
    "    res = [x_start] #инициализируем массив итеррационных точек\n",
    "    grad = np.zeros(len(x_start)) #инициализуруем нулевой массив размерности начальной точки. Каждый раз обновляем вектор-градиент\n",
    "    while (np.linalg.norm (y-x, ord = 2) > eps): #условие останова\n",
    "        grad = grad + step(i) * gradient (x) #считаем градиент\n",
    "        res.append (-grad) #добавляем градиент в массив решений\n",
    "        y = x\n",
    "        x = res[i+1] #обновляем точку \n",
    "        i = i + 1 \n",
    "    return res"
   ]
  },
  {
   "cell_type": "code",
   "execution_count": 19,
   "metadata": {},
   "outputs": [],
   "source": [
    "#Определим функцию шага h_i = 1/k\n",
    "\n",
    "def step(i):\n",
    "    return 0.05\n",
    "\n",
    "#Если брать шаг 1/k, то решение сходится к неверному ответу"
   ]
  },
  {
   "cell_type": "markdown",
   "metadata": {},
   "source": [
    "# Пример 1. Когда всё плохо"
   ]
  },
  {
   "cell_type": "markdown",
   "metadata": {},
   "source": [
    "Наша задача: тестироваться на функциях вида:\n",
    "\n",
    "$$ ||Ax - b||_{2}^{2} - \\lambda_{min} (A^{T}A) \\cdot \\frac{1}{2}||x||_{2}^{2}$$"
   ]
  },
  {
   "cell_type": "markdown",
   "metadata": {},
   "source": [
    "Градиент этой функции равен\n",
    "$$ 2 A^{T} (Ax-b) - \\lambda_{min} (A^{T}A) x$$"
   ]
  },
  {
   "cell_type": "code",
   "execution_count": 20,
   "metadata": {},
   "outputs": [],
   "source": [
    "def function(x):\n",
    "    eig, v = np.linalg.eig (A.transpose() @ A) #вычисляем собственные числа и векторы квадратной матрицы A^{T} A\n",
    "    e = min (eig) #находим минимальное собственное число матрицы A^{T} A\n",
    "    res = (np.linalg.norm((A @ x - b), ord=2))**2 - e*0.5*(np.linalg.norm(x, ord = 2))**2 #считаем значение нашей функции в точке x\n",
    "    return res"
   ]
  },
  {
   "cell_type": "code",
   "execution_count": 21,
   "metadata": {},
   "outputs": [],
   "source": [
    "#Определим градиент этой функции\n",
    "\n",
    "def gradient (x):\n",
    "    eig, v = np.linalg.eig (A.transpose() @ A) #вычисляем собственные числа и векторы квадратной матрицы A^{T} A\n",
    "    eig = min (eig) #находим минимальное собственное число матрицы A^{T} A\n",
    "    res = 2*A.transpose() @ (A @ x - b) - x * eig #считаем значение градиента в точке\n",
    "    return res"
   ]
  },
  {
   "cell_type": "code",
   "execution_count": 22,
   "metadata": {},
   "outputs": [],
   "source": [
    "#рассматриваем самый простой случай, когда вектор b - нулевой.\n",
    "#Очевидно, что в этом случае квадратичная форма имеет минимум в нуле\n",
    "\n",
    "A = np.array([[10, 2], [1, 3]])\n",
    "b = np.array([0, 0])\n",
    "x_start = np.array([0.1, 0.1])\n",
    "eps = 0.001"
   ]
  },
  {
   "cell_type": "code",
   "execution_count": 23,
   "metadata": {},
   "outputs": [],
   "source": [
    "from scipy.optimize import minimize"
   ]
  },
  {
   "cell_type": "code",
   "execution_count": 24,
   "metadata": {},
   "outputs": [
    {
     "name": "stdout",
     "output_type": "stream",
     "text": [
      "[-8.27805614e-09  1.57835973e-08]\n"
     ]
    }
   ],
   "source": [
    "res = minimize(function, np.array([0.1, 0.2]), method='BFGS') #но для уверенности проверим это\n",
    "print (res.x) #да, это действительно так"
   ]
  },
  {
   "cell_type": "code",
   "execution_count": 25,
   "metadata": {},
   "outputs": [
    {
     "name": "stdout",
     "output_type": "stream",
     "text": [
      "[array([0.1, 0.2]), array([-1.43324383, -0.41648766]), array([13.47363498,  3.26832221]), array([-125.17482745,  -30.76854711]), array([1163.84911799,  285.82332833]), array([-10820.6342888,  -2657.5422664]), array([100602.8686955 ,  24707.91083731]), array([-935336.54036892, -229717.28997146]), array([8696118.41177355, 2135753.9562298 ]), array([-80850551.73148045, -19856777.21630756]), array([7.51693044e+08, 1.84614712e+08]), array([-6.98872697e+09, -1.71642112e+09]), array([6.49763958e+10, 1.59581077e+10]), array([-6.04106016e+11, -1.48367554e+11]), array([5.61656390e+12, 1.37941988e+12]), array([-5.22189635e+13, -1.28249010e+13]), array([4.85496150e+14, 1.19237144e+14]), array([-4.51381062e+15, -1.10858528e+15]), array([4.19663189e+16, 1.03068665e+16]), array([-3.90174084e+17, -9.58261843e+16]), array([3.62757135e+18, 8.90926216e+17]), array([-3.37266733e+19, -8.28322163e+18]), array([3.13567504e+20, 7.70117203e+19]), array([-2.91533585e+21, -7.16002219e+20]), array([2.71047956e+22, 6.65689813e+21]), array([-2.52001821e+23, -6.18912786e+22]), array([2.3429403e+24, 5.7542271e+23]), array([-2.17830539e+25, -5.34988616e+24]), array([2.02523913e+26, 4.97395766e+25]), array([-1.88292860e+27, -4.62444509e+26]), array([1.75061802e+28, 4.29949225e+27]), array([-1.62760471e+29, -3.99737336e+28]), array([1.51323536e+30, 3.71648391e+29]), array([-1.40690258e+31, -3.45533214e+30]), array([1.30804164e+32, 3.21253112e+31]), array([-1.21612751e+33, -2.98679136e+32]), array([1.13067204e+34, 2.77691400e+33]), array([-1.05122141e+35, -2.58178440e+34]), array([9.77353654e+35, 2.40036627e+35]), array([-9.08676474e+36, -2.23169613e+36]), array([8.44825137e+37, 2.07487818e+37]), array([-7.85460538e+38, -1.92907959e+38]), array([7.30267400e+39, 1.79352605e+39]), array([-6.78952602e+40, -1.66749766e+40]), array([6.31243618e+41, 1.55032509e+41]), array([-5.86887073e+42, -1.44138606e+42]), array([5.45647396e+43, 1.34010202e+43]), array([-5.07305569e+44, -1.24593505e+44]), array([4.71657965e+45, 1.15838506e+45]), array([-4.38515265e+46, -1.07698708e+46]), array([4.07701453e+47, 1.00130880e+47]), array([-3.79052882e+48, -9.30948331e+47]), array([3.52417402e+49, 8.65531984e+48]), array([-3.27653559e+50, -8.04712346e+49]), array([3.04629833e+51, 7.48166413e+50]), array([-2.83223950e+52, -6.95593877e+51]), array([2.63322227e+53, 6.46715536e+52]), array([-2.44818967e+54, -6.01271802e+53]), array([2.27615905e+55, 5.59021332e+54]), array([-2.11621675e+56, -5.19739738e+55]), array([1.96751337e+57, 4.83218404e+56]), array([-1.82925914e+58, -4.49263369e+57]), array([1.70071984e+59, 4.17694304e+58]), array([-1.5812128e+60, -3.8834355e+59]), array([1.47010334e+61, 3.61055229e+60]), array([-1.36680138e+62, -3.35684418e+61]), array([1.27075829e+63, 3.12096376e+62]), array([-1.1814640e+64, -2.9016583e+63]), array([1.09844429e+65, 2.69776311e+64]), array([-1.02125826e+66, -2.50819533e+65]), array([9.49495965e+66, 2.33194820e+66]), array([-8.82776303e+67, -2.16808569e+67]), array([8.20744932e+68, 2.01573755e+68]), array([-7.63072413e+69, -1.87409468e+69]), array([7.09452456e+70, 1.74240485e+70]), array([-6.59600292e+71, -1.61996867e+71]), array([6.13251166e+72, 1.50613589e+72]), array([-5.70158924e+73, -1.40030197e+73]), array([5.30094709e+74, 1.30190485e+74]), array([-4.92845746e+75, -1.21042194e+75]), array([4.58214212e+76, 1.12536740e+76]), array([-4.26016185e+77, -1.04628952e+77]), array([3.96080665e+78, 9.72768317e+77]), array([-3.68248668e+79, -9.04413342e+78]), array([3.42372385e+80, 8.40861569e+79]), array([-3.18314390e+81, -7.81775484e+80]), array([2.95946913e+82, 7.26841289e+81]), array([-2.75151166e+83, -6.75767239e+82]), array([2.55816705e+84, 6.28282085e+83]), array([-2.37840848e+85, -5.84133643e+84]), array([2.21128127e+86, 5.43087445e+85]), array([-2.05589784e+87, -5.04925502e+86]), array([1.91143298e+88, 4.69445142e+87]), array([-1.77711944e+89, -4.36457934e+88]), array([1.65224391e+90, 4.05788688e+89]), array([-1.53614320e+91, -3.77274523e+90]), array([1.42820072e+92, 3.50764007e+91]), array([-1.32784319e+93, -3.26116344e+92]), array([1.23453763e+94, 3.03200636e+93]), array([-1.14778852e+95, -2.81895181e+94]), array([1.06713514e+96, 2.62086828e+95]), array([-9.92149146e+96, -2.43670379e+96]), array([9.22432309e+97, 2.26548026e+97]), array([-8.57614370e+98, -2.10628835e+98]), array([7.97351091e+99, 1.95828261e+99]), array([-7.41322422e+100, -1.82067702e+100]), array([6.89230804e+101, 1.69274077e+101]), array([-6.40799586e+102, -1.57379441e+102]), array([5.95771557e+103, 1.46320623e+103]), array([-5.53907580e+104, -1.36038891e+104]), array([5.14985323e+105, 1.26479642e+105]), array([-4.78798074e+106, -1.17592107e+106]), array([4.45153649e+107, 1.09329085e+107]), array([-4.13873368e+108, -1.01646694e+108]), array([3.84791105e+109, 9.45041325e+108]), array([-3.57752410e+110, -8.78634684e+109]), array([3.32613683e+111, 8.16894339e+110]), array([-3.09241417e+112, -7.59492395e+111]), array([2.87511485e+113, 7.06124000e+112]), array([-2.67308483e+114, -6.56505722e+113]), array([2.48525115e+115, 6.10374047e+114]), array([-2.31061627e+116, -5.67483975e+115]), array([2.14825272e+117, 5.27607725e+116]), array([-1.99729821e+118, -4.90533519e+117]), array([1.85695105e+119, 4.56064462e+118]), array([-1.72646588e+120, -4.24017494e+119]), array([1.60514970e+121, 3.94222419e+120]), array([-1.49235823e+122, -3.66520999e+121]), array([1.38749245e+123, 3.40766116e+122]), array([-1.28999543e+124, -3.16820991e+123]), array([1.19934938e+125, 2.94558454e+124]), array([-1.11507289e+126, -2.73860272e+125]), array([1.03671839e+127, 2.54616520e+126]), array([-9.63869739e+127, -2.36724998e+127]), array([8.96140053e+128, 2.20090686e+128]), array([-8.33169632e+129, -2.04625243e+129]), array([7.74624048e+130, 1.90246533e+130]), array([-7.20192374e+131, -1.76878193e+131]), array([6.69585533e+132, 1.64449227e+132]), array([-6.22534758e+133, -1.52893626e+133]), array([5.78790172e+134, 1.42150019e+134]), array([-5.38119452e+135, -1.32161350e+135]), array([5.00306603e+136, 1.22874570e+136]), array([-4.65150806e+137, -1.14240357e+137]), array([4.32465354e+138, 1.06212858e+138]), array([-4.02076660e+139, -9.87494395e+138]), array([3.73823335e+140, 9.18104641e+139]), array([-3.47555328e+141, -8.53590800e+140]), array([3.23133135e+142, 7.93610251e+141]), array([-3.00427052e+143, -7.37844445e+142]), array([2.79316493e+144, 6.85997219e+143]), array([-2.5968934e+145, -6.3779322e+144]), array([2.41441359e+146, 5.92976445e+145]), array([-2.24475635e+147, -5.51308876e+146]), array([2.08702068e+148, 5.12569226e+147]), array([-1.94036886e+149, -4.76551753e+148]), array([1.80402204e+150, 4.43065174e+149]), array([-1.67725611e+151, -4.11931647e+150]), array([1.55939783e+152, 3.82985826e+151]), array([-1.44982128e+153, -3.56073984e+152]), array([1.34794450e+154, 3.31053198e+153]), array([-1.25322646e+155, -3.07790585e+154]), array([1.16516411e+156, 2.86162601e+155]), array([-1.08328977e+157, -2.66054382e+156]), array([1.00716862e+158, 2.47359139e+157]), array([-9.36396384e+158, -2.29977582e+158]), array([8.70597211e+159, 2.13817401e+159]), array([-8.09421646e+160, -1.98792772e+160]), array([7.52544798e+161, 1.84823901e+161]), array([-6.99664600e+162, -1.71836602e+162]), array([6.50500215e+163, 1.59761901e+163]), array([-6.04790537e+164, -1.48535671e+164]), array([5.62292810e+165, 1.38098292e+165]), array([-5.22781335e+166, -1.28394331e+166]), array([4.86046273e+167, 1.19372253e+167]), array([-4.51892528e+168, -1.10984144e+168]), array([4.20138716e+169, 1.03185454e+169]), array([-3.90616196e+170, -9.59347663e+169]), array([3.63168180e+171, 8.91935737e+170]), array([-3.37648895e+172, -8.29260747e+171]), array([3.13922812e+173, 7.70989834e+172]), array([-2.91863926e+174, -7.16813531e+173]), array([2.71355084e+175, 6.66444116e+174]), array([-2.52287368e+176, -6.19614084e+175]), array([2.34559512e+177, 5.76074729e+176]), array([-2.18077366e+178, -5.35594819e+177]), array([2.02753395e+179, 4.97959372e+178]), array([-1.88506217e+180, -4.62968512e+179]), array([1.75260167e+181, 4.30436407e+180]), array([-1.62944897e+182, -4.00190284e+181]), array([1.51495003e+183, 3.72069511e+182]), array([-1.40849676e+184, -3.45924743e+183]), array([1.30952380e+185, 3.21617128e+184]), array([-1.21750552e+186, -2.99017574e+185]), array([1.13195322e+187, 2.78006056e+186]), array([-1.05241256e+188, -2.58470986e+187]), array([9.78461107e+188, 2.40308616e+188]), array([-9.09706108e+189, -2.23422489e+189]), array([8.45782420e+190, 2.07722925e+190]), array([-7.86350554e+191, -1.93126546e+191]), array([7.31094876e+192, 1.79555832e+192]), array([-6.79721933e+193, -1.66938712e+193]), array([6.31958889e+194, 1.55208178e+194]), array([-5.87552083e+195, -1.44301932e+195]), array([5.46265676e+196, 1.34162051e+196]), array([-5.07880404e+197, -1.24734684e+197]), array([4.72192407e+198, 1.15969764e+198]), array([-4.39012153e+199, -1.07820742e+199]), array([4.08163425e+200, 1.00244340e+200]), array([-3.79482392e+201, -9.32003202e+200]), array([3.52816732e+202, 8.66512731e+201]), array([-3.28024827e+203, -8.05624177e+202]), array([3.04975013e+204, 7.49014171e+203]), array([-2.83544875e+205, -6.96382065e+204]), array([2.63620601e+206, 6.47448338e+205]), array([-2.45096375e+207, -6.01953112e+206]), array([2.27873819e+208, 5.59654767e+207]), array([-2.11861467e+209, -5.20328663e+208]), array([1.96974278e+210, 4.83765946e+209]), array([-1.83133190e+211, -4.49772436e+210]), array([1.70264695e+212, 4.18167600e+211]), array([-1.58300449e+213, -3.88783588e+212]), array([1.47176913e+214, 3.61464346e+213]), array([-1.36835012e+215, -3.36064787e+214]), array([1.27219820e+216, 3.12450017e+215]), array([-1.18280274e+217, -2.90494621e+216]), array([1.09968896e+218, 2.70081999e+217]), array([-1.02241546e+219, -2.51103741e+218]), array([9.50571852e+219, 2.33459056e+219]), array([-8.83776590e+220, -2.17054237e+220]), array([8.21674930e+221, 2.01802161e+221]), array([-7.63937061e+222, -1.87621825e+222]), array([7.10256346e+223, 1.74437920e+223]), array([-6.60347695e+224, -1.62180428e+224]), array([6.13946050e+225, 1.50784252e+225]), array([-5.70804979e+226, -1.40188868e+226]), array([5.30695366e+227, 1.30338006e+227]), array([-4.93404197e+228, -1.21179349e+228]), array([4.58733421e+229, 1.12664257e+229]), array([-4.26498910e+230, -1.04747508e+230]), array([3.96529469e+231, 9.73870575e+230]), array([-3.68665936e+232, -9.05438146e+231]), array([3.42760332e+233, 8.41814361e+232]), array([-3.18675076e+234, -7.82661325e+233]), array([2.96282255e+235, 7.27664884e+234]), array([-2.75462944e+236, -6.76532960e+235]), array([2.56106575e+237, 6.28994001e+236]), array([-2.38110349e+238, -5.84795533e+237]), array([2.21378691e+239, 5.43702825e+238]), array([-2.05822741e+240, -5.05497640e+239]), array([1.91359885e+241, 4.69977077e+240]), array([-1.77913312e+242, -4.36952491e+241]), array([1.65411609e+243, 4.06248492e+242]), array([-1.53788383e+244, -3.77702018e+243]), array([1.42981903e+245, 3.51161462e+244]), array([-1.32934779e+246, -3.26485871e+245]), array([1.23593651e+247, 3.03544197e+246]), array([-1.14908909e+248, -2.82214601e+247]), array([1.06834432e+249, 2.62383803e+248]), array([-9.93273364e+249, -2.43946485e+249]), array([9.2347753e+250, 2.2680473e+250]), array([-8.58586145e+251, -2.10867501e+251]), array([7.98254580e+252, 1.96050157e+252]), array([-7.42162425e+253, -1.82274006e+253]), array([6.90011781e+254, 1.69465884e+254]), array([-6.41525685e+255, -1.57557770e+255]), array([5.96446634e+256, 1.46486421e+256]), array([-5.54535221e+257, -1.36193039e+257]), array([5.15568860e+258, 1.26622958e+258]), array([-4.79340607e+259, -1.17725352e+259]), array([4.45658059e+260, 1.09452967e+260]), array([-4.14342334e+261, -1.01761871e+261]), array([3.85227118e+262, 9.46112165e+261]), array([-3.58157784e+263, -8.79630278e+262]), array([3.32990572e+264, 8.17819973e+263]), array([-3.09591823e+265, -7.60352987e+264]), array([2.87837268e+266, 7.06924119e+265]), array([-2.67611374e+267, -6.57249618e+266]), array([2.48806723e+268, 6.11065670e+267]), array([-2.31323446e+269, -5.68126999e+268]), array([2.15068694e+270, 5.28205565e+269]), array([-1.99956138e+271, -4.91089349e+270]), array([1.85905519e+272, 4.56581235e+271]), array([-1.72842216e+273, -4.24497954e+272]), array([1.60696852e+274, 3.94669118e+273]), array([-1.49404925e+275, -3.66936309e+274]), array([1.38906464e+276, 3.41152243e+275]), array([-1.29145714e+277, -3.17179985e+276]), array([1.20070838e+278, 2.94892222e+277]), array([-1.11633640e+279, -2.74170586e+278]), array([1.03789311e+280, 2.54905029e+279]), array([-9.64961913e+280, -2.36993234e+280]), array([8.97155482e+281, 2.20340074e+281]), array([-8.34113708e+282, -2.04857106e+282]), array([7.75501785e+283, 1.90462104e+283]), array([-7.21008434e+284, -1.77078617e+284]), array([6.70344250e+285, 1.64635567e+285]), array([-6.23240161e+286, -1.53066872e+286]), array([5.79446007e+287, 1.42311092e+287]), array([-5.38729203e+288, -1.32311104e+288]), array([5.00873507e+289, 1.23013801e+289]), array([-4.65677875e+290, -1.14369805e+290]), array([4.32955387e+291, 1.06333210e+291]), array([-4.02532259e+292, -9.88613339e+291]), array([3.74246919e+293, 9.19144958e+292]), array([-3.47949148e+294, -8.54558016e+293]), array([3.23499281e+295, 7.94509502e+294]), array([-3.00767471e+296, -7.38680507e+295]), array([2.79632990e+297, 6.86774533e+296]), array([-2.59983598e+298, -6.38515913e+297]), array([2.41714939e+299, 5.93648355e+298]), array([-2.24729992e+300, -5.51933572e+299]), array([2.08938551e+301, 5.13150025e+300]), array([-1.94256752e+302, -4.77091740e+301]), array([1.80606620e+303, 4.43567217e+302]), array([-1.67915663e+304, -4.12398412e+303]), array([1.56116481e+305, 3.83419792e+304]), array([-1.45146409e+306, -3.56477457e+305]), array([            inf, 3.31428319e+306]), array([ nan, -inf])]\n"
     ]
    },
    {
     "name": "stderr",
     "output_type": "stream",
     "text": [
      "C:\\Users\\babus\\Anaconda3\\lib\\site-packages\\ipykernel_launcher.py:6: RuntimeWarning: invalid value encountered in subtract\n",
      "  \n"
     ]
    }
   ],
   "source": [
    "x_res = DoDual(gradient, eps , step, np.array([0.1, 0.2]))\n",
    "print (x_res)\n",
    "#но наше решение уходит в бесконечность и непонятно почему"
   ]
  },
  {
   "cell_type": "markdown",
   "metadata": {
    "scrolled": true
   },
   "source": [
    "# Пример 2. Простой пример, когда всё хорошо"
   ]
  },
  {
   "cell_type": "markdown",
   "metadata": {},
   "source": [
    "$$ ||Ax - b||_{2}^{2}$$\n",
    "Градиент этой функции равен\n",
    "$$ 2 A^{T} (Ax-b)$$"
   ]
  },
  {
   "cell_type": "code",
   "execution_count": 26,
   "metadata": {},
   "outputs": [],
   "source": [
    "def func(x):\n",
    "    res = np.linalg.norm((A @ x - b), ord = 2)**2\n",
    "    return res"
   ]
  },
  {
   "cell_type": "code",
   "execution_count": 27,
   "metadata": {},
   "outputs": [],
   "source": [
    "def gradient(x) :\n",
    "    res = 2*A.transpose() @ (A @ x - b)\n",
    "    return res"
   ]
  },
  {
   "cell_type": "code",
   "execution_count": 28,
   "metadata": {},
   "outputs": [],
   "source": [
    "A = np.array([[2, 2], [1, 3]])\n",
    "b = np.array([1, 1])\n",
    "x_start = np.array([0.1, 0.1])\n",
    "eps = 0.0001"
   ]
  },
  {
   "cell_type": "code",
   "execution_count": 29,
   "metadata": {},
   "outputs": [
    {
     "name": "stdout",
     "output_type": "stream",
     "text": [
      "[0.25000001 0.24999999]\n"
     ]
    }
   ],
   "source": [
    "res = minimize(func, np.array([0.1, 0.2]), method='BFGS')\n",
    "print (res.x) #минимум в точке (0.25, 0.25)"
   ]
  },
  {
   "cell_type": "code",
   "execution_count": 30,
   "metadata": {},
   "outputs": [
    {
     "name": "stdout",
     "output_type": "stream",
     "text": [
      "[array([0.1, 0.1]), array([0.18, 0.3 ]), array([0.18 , 0.284]), array([0.1912, 0.2888]), array([0.19344, 0.27952]), array([0.201056, 0.280736]), array([0.2040128, 0.27504  ]), array([0.2094784 , 0.27467904]), array([0.21246387, 0.27096141]), array([0.21655895, 0.26998687]), array([0.21928867, 0.26741267]), array([0.22245546, 0.26627413]), array([0.22483584, 0.26439894]), array([0.22733866, 0.26329523]), array([0.22936267, 0.26187437]), array([0.23136928, 0.26088382]), array([0.23306596, 0.25977636]), array([0.23468953, 0.25892092]), array([0.23610012, 0.25804105]), array([0.23742132, 0.2573176 ]), array([0.23858834, 0.25660979]), array([0.23966732, 0.25600522]), array([0.24063   , 0.25543131]), array([0.24151308, 0.2549296 ]), array([0.24230582, 0.25446196]), array([0.24302954, 0.25404734]), array([0.24368163, 0.25366512]), array([0.24427523, 0.25332332]), array([0.24481129, 0.25301034]), array([0.24529841, 0.25272899]), array([0.24573891, 0.25247242]), array([0.24613876, 0.25224104]), array([0.24650065, 0.25203056]), array([0.24682894, 0.25184038]), array([0.24712621, 0.25166763]), array([0.24739576, 0.25151137]), array([0.24763992, 0.25136956]), array([0.24786127, 0.25124119]), array([0.24806181, 0.25112475]), array([0.24824357, 0.25101931]), array([0.24840827, 0.2509237 ]), array([0.24855754, 0.2508371 ]), array([0.2486928 , 0.25075859]), array([0.24881539, 0.25068746]), array([0.24892647, 0.25062299]), array([0.24902714, 0.25056457]), array([0.24911837, 0.25051163]), array([0.24920104, 0.25046365])]\n"
     ]
    }
   ],
   "source": [
    "x_res = DoDual(gradient, eps , step, x_start)\n",
    "print (x_res)\n",
    "#решение сошлось к нужной точке"
   ]
  },
  {
   "cell_type": "code",
   "execution_count": 31,
   "metadata": {},
   "outputs": [],
   "source": [
    "a = []\n",
    "b = []\n",
    "for x in x_res:\n",
    "    a = np.append (a, x[0])\n",
    "    b = np.append (b, x[1])"
   ]
  },
  {
   "cell_type": "code",
   "execution_count": 32,
   "metadata": {},
   "outputs": [
    {
     "data": {
      "image/png": "[encoded data removed]",
      "text/plain": [
       "<matplotlib.figure.Figure at 0x25487c71c18>"
      ]
     },
     "metadata": {},
     "output_type": "display_data"
    },
    {
     "name": "stdout",
     "output_type": "stream",
     "text": [
      "Число итераций: 48\n"
     ]
    }
   ],
   "source": [
    "fig, ax = plt.subplots(figsize=[15, 8])\n",
    "\n",
    "plt.scatter(a, b, color = \"blue\", label = \"My Method\")\n",
    "plt.scatter(0.25, 0.25, label = \"real solution\", color = \"red\")\n",
    "plt.scatter(x_start[0], x_start[1], label = \"start point\", color = \"brown\")\n",
    "plt.title(\"Function\")\n",
    "plt.legend(loc = 'best')\n",
    "ax.grid('True')\n",
    "plt.show()\n",
    "\n",
    "print ('Число итераций:', len(x_res))"
   ]
  },
  {
   "cell_type": "code",
   "execution_count": null,
   "metadata": {},
   "outputs": [],
   "source": []
  },
  {
   "cell_type": "code",
   "execution_count": null,
   "metadata": {},
   "outputs": [],
   "source": []
  },
  {
   "cell_type": "code",
   "execution_count": null,
   "metadata": {},
   "outputs": [],
   "source": []
  },
  {
   "cell_type": "code",
   "execution_count": null,
   "metadata": {},
   "outputs": [],
   "source": []
  }
 ],
 "metadata": {
  "kernelspec": {
   "display_name": "Python 3",
   "language": "python",
   "name": "python3"
  },
  "language_info": {
   "codemirror_mode": {
    "name": "ipython",
    "version": 3
   },
   "file_extension": ".py",
   "mimetype": "text/x-python",
   "name": "python",
   "nbconvert_exporter": "python",
   "pygments_lexer": "ipython3",
   "version": "3.6.4"
  }
 },
 "nbformat": 4,
 "nbformat_minor": 2
}
